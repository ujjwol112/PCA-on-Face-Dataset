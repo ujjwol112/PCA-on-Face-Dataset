{
 "cells": [
  {
   "cell_type": "code",
   "execution_count": 1,
   "id": "14fc9072",
   "metadata": {},
   "outputs": [],
   "source": [
    "import os\n",
    "import shutil"
   ]
  },
  {
   "cell_type": "code",
   "execution_count": 2,
   "id": "98c3f131",
   "metadata": {},
   "outputs": [],
   "source": [
    "source_folder = 'C:/Users/ujjwol/OneDrive - Tribhuvan University/Desktop/BEI IV_I/Data Mining/Lab Report/Project/Recognition'\n",
    "destination_folder = 'C:/Users/ujjwol/OneDrive - Tribhuvan University/Desktop/BEI IV_I/Data Mining/Lab Report/Project/Recognition Set'"
   ]
  },
  {
   "cell_type": "code",
   "execution_count": 3,
   "id": "f111ac9d",
   "metadata": {
    "scrolled": true
   },
   "outputs": [],
   "source": [
    "files = os.listdir(source_folder)\n",
    "\n",
    "# Create the output directory if it doesn't exist\n",
    "os.makedirs(destination_folder, exist_ok=True)"
   ]
  },
  {
   "cell_type": "code",
   "execution_count": 4,
   "id": "3b3aa7f1",
   "metadata": {},
   "outputs": [],
   "source": [
    "jpg_files = [file for file in files if file.lower().endswith('.jpg')]"
   ]
  },
  {
   "cell_type": "code",
   "execution_count": 5,
   "id": "d1fd100a",
   "metadata": {
    "scrolled": true
   },
   "outputs": [],
   "source": [
    "for index, jpg_file in enumerate(jpg_files, start=1):\n",
    "    old_path = os.path.join(source_folder, jpg_file)\n",
    "    new_filename = f\"{index:03d}.jpg\"  # Use leading zeros for sorting\n",
    "    new_path = os.path.join(destination_folder, new_filename)\n",
    "    shutil.copy2(old_path, new_path)"
   ]
  },
  {
   "cell_type": "code",
   "execution_count": 9,
   "id": "2d1325de",
   "metadata": {},
   "outputs": [],
   "source": [
    "from PIL import Image, ImageOps\n",
    "import os\n",
    "import numpy as np\n",
    "import matplotlib.pyplot as plt"
   ]
  },
  {
   "cell_type": "code",
   "execution_count": 10,
   "id": "ca19a9df",
   "metadata": {},
   "outputs": [],
   "source": [
    "# Path to image dataset folder\n",
    "input_folder = 'C:/Users/ujjwol/OneDrive - Tribhuvan University/Desktop/BEI IV_I/Data Mining/Lab Report/Project/Recognition Set'\n",
    "\n",
    "# Output folder for processed images\n",
    "output_folder = 'C:/Users/ujjwol/OneDrive - Tribhuvan University/Desktop/BEI IV_I/Data Mining/Lab Report/Project/Recognition Image'"
   ]
  },
  {
   "cell_type": "code",
   "execution_count": 13,
   "id": "c859fad7",
   "metadata": {},
   "outputs": [],
   "source": [
    "# Desired size for the output images\n",
    "output_size = (256, 256)\n",
    "\n",
    "# Initialize lists to store images and vectors\n",
    "image_vectors = []\n",
    "\n",
    "# Create the output directory if it doesn't exist\n",
    "os.makedirs(output_folder, exist_ok=True)"
   ]
  },
  {
   "cell_type": "code",
   "execution_count": 14,
   "id": "f9e35e53",
   "metadata": {},
   "outputs": [],
   "source": [
    "# Loop through each image in the input folder\n",
    "for filename in os.listdir(input_folder):\n",
    "    image_path = os.path.join(input_folder, filename)\n",
    "    \n",
    "    # Open the image using Pillow\n",
    "    img = Image.open(image_path)\n",
    "        \n",
    "    # Convert the image to grayscale\n",
    "    img_gray = img.convert('L')\n",
    "        \n",
    "    # Enhance contrast to improve lighting uniformity\n",
    "    img_enhanced = ImageOps.equalize(img_gray)\n",
    "        \n",
    "    # Resize the image to the desired size\n",
    "    img_resized = img_gray.resize(output_size, Image.LANCZOS)\n",
    "        \n",
    "    # Save the processed image to the output folder\n",
    "    output_path = os.path.join(output_folder, filename)\n",
    "    img_resized.save(output_path)"
   ]
  },
  {
   "cell_type": "code",
   "execution_count": null,
   "id": "8696cf75",
   "metadata": {},
   "outputs": [],
   "source": []
  }
 ],
 "metadata": {
  "kernelspec": {
   "display_name": "Python 3 (ipykernel)",
   "language": "python",
   "name": "python3"
  },
  "language_info": {
   "codemirror_mode": {
    "name": "ipython",
    "version": 3
   },
   "file_extension": ".py",
   "mimetype": "text/x-python",
   "name": "python",
   "nbconvert_exporter": "python",
   "pygments_lexer": "ipython3",
   "version": "3.11.4"
  }
 },
 "nbformat": 4,
 "nbformat_minor": 5
}
